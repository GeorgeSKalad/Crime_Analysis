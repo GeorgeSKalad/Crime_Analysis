{
 "cells": [
  {
   "cell_type": "code",
   "execution_count": 1,
   "id": "c08cb2ce",
   "metadata": {},
   "outputs": [],
   "source": [
    "# Import Dependencies\n",
    "import pandas as pd\n",
    "from pathlib import Path\n",
    "import matplotlib.pyplot as plt\n",
    "import warnings"
   ]
  },
  {
   "cell_type": "code",
   "execution_count": 2,
   "id": "447d4385",
   "metadata": {},
   "outputs": [
    {
     "name": "stdout",
     "output_type": "stream",
     "text": [
      "There are 170555 records and 12 columns.\n"
     ]
    },
    {
     "data": {
      "text/html": [
       "<div>\n",
       "<style scoped>\n",
       "    .dataframe tbody tr th:only-of-type {\n",
       "        vertical-align: middle;\n",
       "    }\n",
       "\n",
       "    .dataframe tbody tr th {\n",
       "        vertical-align: top;\n",
       "    }\n",
       "\n",
       "    .dataframe thead th {\n",
       "        text-align: right;\n",
       "    }\n",
       "</style>\n",
       "<table border=\"1\" class=\"dataframe\">\n",
       "  <thead>\n",
       "    <tr style=\"text-align: right;\">\n",
       "      <th></th>\n",
       "      <th>OBJECTID</th>\n",
       "      <th>IncidentNumber</th>\n",
       "      <th>Date_Occurred</th>\n",
       "      <th>Date_Found</th>\n",
       "      <th>Offense_Code</th>\n",
       "      <th>Offense_Description</th>\n",
       "      <th>Block</th>\n",
       "      <th>Street</th>\n",
       "      <th>Precinct</th>\n",
       "      <th>Subdivision</th>\n",
       "      <th>Zone_ID</th>\n",
       "      <th>Case_Status</th>\n",
       "    </tr>\n",
       "  </thead>\n",
       "  <tbody>\n",
       "    <tr>\n",
       "      <th>0</th>\n",
       "      <td>1</td>\n",
       "      <td>2022077686</td>\n",
       "      <td>2022/12/07 04:10:00+00</td>\n",
       "      <td>2022/12/07 04:20:00+00</td>\n",
       "      <td>13B1</td>\n",
       "      <td>ASSAULT, SIMPLE</td>\n",
       "      <td>2400.0</td>\n",
       "      <td>CASTLETON COMMERCE WAY</td>\n",
       "      <td>1</td>\n",
       "      <td>CASTLETON COMMERCE PARK</td>\n",
       "      <td>124</td>\n",
       "      <td>EXCEPTIONALLY CLEARED</td>\n",
       "    </tr>\n",
       "    <tr>\n",
       "      <th>1</th>\n",
       "      <td>2</td>\n",
       "      <td>2022077830</td>\n",
       "      <td>2022/12/06 22:48:00+00</td>\n",
       "      <td>2022/12/06 22:48:00+00</td>\n",
       "      <td>13B2</td>\n",
       "      <td>ASSAULT, SIMPLE, DOMESTIC</td>\n",
       "      <td>900.0</td>\n",
       "      <td>IRON BRIDGE DR</td>\n",
       "      <td>4</td>\n",
       "      <td>BLUEGRASS PARK</td>\n",
       "      <td>426</td>\n",
       "      <td>UNDER REVIEW</td>\n",
       "    </tr>\n",
       "    <tr>\n",
       "      <th>2</th>\n",
       "      <td>3</td>\n",
       "      <td>2022077830</td>\n",
       "      <td>2022/12/06 22:48:00+00</td>\n",
       "      <td>2022/12/06 22:48:00+00</td>\n",
       "      <td>13B2</td>\n",
       "      <td>ASSAULT, SIMPLE, DOMESTIC</td>\n",
       "      <td>900.0</td>\n",
       "      <td>IRON BRIDGE DR</td>\n",
       "      <td>4</td>\n",
       "      <td>BLUEGRASS PARK</td>\n",
       "      <td>426</td>\n",
       "      <td>UNDER REVIEW</td>\n",
       "    </tr>\n",
       "    <tr>\n",
       "      <th>3</th>\n",
       "      <td>4</td>\n",
       "      <td>2022077885</td>\n",
       "      <td>2022/12/04 07:02:00+00</td>\n",
       "      <td>2022/12/04 10:01:00+00</td>\n",
       "      <td>13B1</td>\n",
       "      <td>ASSAULT, SIMPLE</td>\n",
       "      <td>400.0</td>\n",
       "      <td>OCEANA BLVD</td>\n",
       "      <td>2</td>\n",
       "      <td>OCEANA</td>\n",
       "      <td>228</td>\n",
       "      <td>UNDER REVIEW</td>\n",
       "    </tr>\n",
       "    <tr>\n",
       "      <th>4</th>\n",
       "      <td>5</td>\n",
       "      <td>2022077890</td>\n",
       "      <td>2022/12/04 06:45:00+00</td>\n",
       "      <td>2022/12/04 07:45:00+00</td>\n",
       "      <td>13B2</td>\n",
       "      <td>ASSAULT, SIMPLE, DOMESTIC</td>\n",
       "      <td>300.0</td>\n",
       "      <td>16TH ST</td>\n",
       "      <td>2</td>\n",
       "      <td>OCEANFRONT - 31ST ST SOUTH</td>\n",
       "      <td>227</td>\n",
       "      <td>CLEARED BY ARREST</td>\n",
       "    </tr>\n",
       "  </tbody>\n",
       "</table>\n",
       "</div>"
      ],
      "text/plain": [
       "   OBJECTID  IncidentNumber           Date_Occurred              Date_Found  \\\n",
       "0         1      2022077686  2022/12/07 04:10:00+00  2022/12/07 04:20:00+00   \n",
       "1         2      2022077830  2022/12/06 22:48:00+00  2022/12/06 22:48:00+00   \n",
       "2         3      2022077830  2022/12/06 22:48:00+00  2022/12/06 22:48:00+00   \n",
       "3         4      2022077885  2022/12/04 07:02:00+00  2022/12/04 10:01:00+00   \n",
       "4         5      2022077890  2022/12/04 06:45:00+00  2022/12/04 07:45:00+00   \n",
       "\n",
       "  Offense_Code        Offense_Description   Block                  Street  \\\n",
       "0         13B1            ASSAULT, SIMPLE  2400.0  CASTLETON COMMERCE WAY   \n",
       "1         13B2  ASSAULT, SIMPLE, DOMESTIC   900.0          IRON BRIDGE DR   \n",
       "2         13B2  ASSAULT, SIMPLE, DOMESTIC   900.0          IRON BRIDGE DR   \n",
       "3         13B1            ASSAULT, SIMPLE   400.0             OCEANA BLVD   \n",
       "4         13B2  ASSAULT, SIMPLE, DOMESTIC   300.0                 16TH ST   \n",
       "\n",
       "  Precinct                 Subdivision Zone_ID            Case_Status  \n",
       "0        1     CASTLETON COMMERCE PARK     124  EXCEPTIONALLY CLEARED  \n",
       "1        4              BLUEGRASS PARK     426           UNDER REVIEW  \n",
       "2        4              BLUEGRASS PARK     426           UNDER REVIEW  \n",
       "3        2                      OCEANA     228           UNDER REVIEW  \n",
       "4        2  OCEANFRONT - 31ST ST SOUTH     227      CLEARED BY ARREST  "
      ]
     },
     "execution_count": 2,
     "metadata": {},
     "output_type": "execute_result"
    }
   ],
   "source": [
    "csv_path = Path(\"Resources/Police_Incident_Reports.csv\")\n",
    "crime_data = pd.read_csv(csv_path, encoding=\"UTF-8\")\n",
    "print(f\"There are {crime_data.shape[0]} records and {crime_data.shape[1]} columns.\")\n",
    "crime_data.head()"
   ]
  },
  {
   "cell_type": "code",
   "execution_count": 3,
   "id": "105b3bf3",
   "metadata": {},
   "outputs": [
    {
     "data": {
      "text/plain": [
       "3610"
      ]
     },
     "execution_count": 3,
     "metadata": {},
     "output_type": "execute_result"
    }
   ],
   "source": [
    "crime_data[crime_data[\"Case_Status\"].str.contains('UNFOUND')][\"OBJECTID\"].count()"
   ]
  },
  {
   "cell_type": "code",
   "execution_count": 4,
   "id": "2cea6cca",
   "metadata": {},
   "outputs": [
    {
     "name": "stdout",
     "output_type": "stream",
     "text": [
      "After removing Unfounded cases, there are 166945 = 166945 records.\n"
     ]
    }
   ],
   "source": [
    "cleaned_crime_data= crime_data.loc[crime_data[\"Case_Status\"].str.contains('UNFOUND') == False]\n",
    "print(f\"After removing Unfounded cases, there are {crime_data.shape[0] - 3610} = {len(cleaned_crime_data)} records.\")"
   ]
  },
  {
   "cell_type": "code",
   "execution_count": 5,
   "id": "f0842141",
   "metadata": {},
   "outputs": [
    {
     "data": {
      "text/plain": [
       "OBJECTID                 int64\n",
       "IncidentNumber           int64\n",
       "Date_Occurred           object\n",
       "Date_Found              object\n",
       "Offense_Code            object\n",
       "Offense_Description     object\n",
       "Block                  float64\n",
       "Street                  object\n",
       "Precinct                object\n",
       "Subdivision             object\n",
       "Zone_ID                 object\n",
       "Case_Status             object\n",
       "dtype: object"
      ]
     },
     "execution_count": 5,
     "metadata": {},
     "output_type": "execute_result"
    }
   ],
   "source": [
    "cleaned_crime_data.dtypes"
   ]
  },
  {
   "cell_type": "code",
   "execution_count": 6,
   "id": "b5c464f2",
   "metadata": {},
   "outputs": [
    {
     "data": {
      "text/plain": [
       "OBJECTID                             int64\n",
       "IncidentNumber                       int64\n",
       "Date_Occurred                       object\n",
       "Date_Found             datetime64[ns, UTC]\n",
       "Offense_Code                        object\n",
       "Offense_Description                 object\n",
       "Block                              float64\n",
       "Street                              object\n",
       "Precinct                            object\n",
       "Subdivision                         object\n",
       "Zone_ID                             object\n",
       "Case_Status                         object\n",
       "Year                                 int64\n",
       "Month                                int64\n",
       "dtype: object"
      ]
     },
     "execution_count": 6,
     "metadata": {},
     "output_type": "execute_result"
    }
   ],
   "source": [
    "# Warning ignoring code\n",
    "pd.set_option('mode.chained_assignment', None)\n",
    "\n",
    "# Convert 'Date_Found' to datetime format\n",
    "cleaned_crime_data['Date_Found'] = pd.to_datetime(cleaned_crime_data['Date_Found'])\n",
    "\n",
    "# Extract year and month from the 'Date_Found' column\n",
    "cleaned_crime_data['Year'] = cleaned_crime_data['Date_Found'].dt.year\n",
    "cleaned_crime_data['Month'] = cleaned_crime_data['Date_Found'].dt.month\n",
    "\n",
    "cleaned_crime_data.dtypes\n",
    "\n"
   ]
  },
  {
   "cell_type": "code",
   "execution_count": 7,
   "id": "01fed6dc",
   "metadata": {},
   "outputs": [
    {
     "name": "stdout",
     "output_type": "stream",
     "text": [
      "2021    12855\n",
      "2022    13933\n",
      "2023    15987\n",
      "Name: Year, dtype: int64\n",
      "\n",
      "1    6701\n",
      "2    6283\n",
      "3    7104\n",
      "4    7150\n",
      "5    7969\n",
      "6    7568\n",
      "Name: Month, dtype: int64\n"
     ]
    }
   ],
   "source": [
    "df = cleaned_crime_data.loc[(cleaned_crime_data['Year'].isin([2021, 2022, 2023])) & (cleaned_crime_data['Month'] <= 6)]\n",
    "\n",
    "print(df['Year'].value_counts().sort_index())\n",
    "print()\n",
    "print(df['Month'].value_counts().sort_index())"
   ]
  },
  {
   "cell_type": "markdown",
   "id": "5865e3c7",
   "metadata": {},
   "source": [
    "# Question 1: What are the Top 10 Part 1 offenses for the first half of each year by total count from 2021 to 2023?"
   ]
  },
  {
   "cell_type": "code",
   "execution_count": 8,
   "id": "527841a0",
   "metadata": {},
   "outputs": [
    {
     "data": {
      "text/plain": [
       "LARCENY, FROM MOTOR VEHICLE                  3705\n",
       "ASSAULT, SIMPLE                              3520\n",
       "HIT & RUN                                    3462\n",
       "DESTRUCTION OF PROPERTY, PRIVATE PROPERTY    3392\n",
       "ASSAULT, SIMPLE, DOMESTIC                    2965\n",
       "LARCENY, ALL OTHERS                          2322\n",
       "DRUG/ NARCOTIC VIOLATIONS                    2256\n",
       "LARCENY, SHOPLIFTING                         2129\n",
       "WEAPON LAW VIOLATIONS                        1257\n",
       "MOTOR VEHICLE THEFT                          1243\n",
       "Name: Offense_Description, dtype: int64"
      ]
     },
     "execution_count": 8,
     "metadata": {},
     "output_type": "execute_result"
    }
   ],
   "source": [
    "df[\"Offense_Description\"].value_counts().head(10)"
   ]
  },
  {
   "cell_type": "code",
   "execution_count": 9,
   "id": "b4aa263b",
   "metadata": {},
   "outputs": [
    {
     "data": {
      "text/plain": [
       "222    49\n",
       "423    45\n",
       "326    43\n",
       "324    35\n",
       "426    34\n",
       "422    33\n",
       "420    33\n",
       "427    31\n",
       "428    29\n",
       "325    27\n",
       "Name: Zone_ID, dtype: int64"
      ]
     },
     "execution_count": 9,
     "metadata": {},
     "output_type": "execute_result"
    }
   ],
   "source": [
    "# Filter data for LARCENY, FROM MOTOR VEHICLE and the first half of 2023\n",
    "LARCENY_FROM_MOTOR_VEHICLE_2023 = cleaned_crime_data[(df['Offense_Description'] == 'LARCENY, FROM MOTOR VEHICLE') & (cleaned_crime_data['Year'] == 2023) & (cleaned_crime_data['Month'] <= 6)]\n",
    "\n",
    "# Count incidents in each Zone for the first half of 2023\n",
    "zone_incident_counts_2023 = LARCENY_FROM_MOTOR_VEHICLE_2023['Zone_ID'].value_counts()\n",
    "\n",
    "zone_incident_counts_2023.head(10)"
   ]
  },
  {
   "cell_type": "markdown",
   "id": "0913ee0d",
   "metadata": {},
   "source": [
    "# Question 2 : What Zone had the most incidents for that crime type in the first half of 2023? Is this Top Zone trending up or down comparative to previous years?"
   ]
  },
  {
   "cell_type": "code",
   "execution_count": 10,
   "id": "8c1193e9",
   "metadata": {
    "scrolled": true
   },
   "outputs": [
    {
     "name": "stdout",
     "output_type": "stream",
     "text": [
      "The Zone with the most LARCENY, FROM MOTOR VEHICLE incidents in the first half of 2023 is Zone 222.\n"
     ]
    }
   ],
   "source": [
    "# Identify the Top Zone for the first half of 2023\n",
    "top_zone_2023 = zone_incident_counts_2023.idxmax()\n",
    "\n",
    "# Display the result\n",
    "print(f\"The Zone with the most LARCENY, FROM MOTOR VEHICLE incidents in the first half of 2023 is Zone {top_zone_2023}.\")"
   ]
  },
  {
   "cell_type": "code",
   "execution_count": 11,
   "id": "c4758ce1",
   "metadata": {},
   "outputs": [
    {
     "name": "stdout",
     "output_type": "stream",
     "text": [
      "The trend for Zone 222 compared to previous years is up.\n"
     ]
    }
   ],
   "source": [
    "\n",
    "# Calculate incident counts for the Top Zone in previous years\n",
    "historical_top_zone_counts = cleaned_crime_data.loc[(cleaned_crime_data['Offense_Description'] == 'LARCENY, FROM MOTOR VEHICLE') & (crime_data['Zone_ID'] == top_zone_2023)]['Year'].value_counts()\n",
    "\n",
    "# Display the trend\n",
    "if len(historical_top_zone_counts) > 1:\n",
    "    trend = 'up' if historical_top_zone_counts.idxmax() == 2023 else 'down'\n",
    "    print(f\"The trend for Zone {top_zone_2023} compared to previous years is {trend}.\")\n",
    "else:\n",
    "    print(f\"Not enough historical data to determine the trend for Zone {top_zone_2023}.\")\n"
   ]
  },
  {
   "cell_type": "markdown",
   "id": "37d27ef5",
   "metadata": {},
   "source": [
    "# Question 2 Bonus : list the maximum value, minimum value, mean, 1 standard deviation value, and 2 standard deviation value"
   ]
  },
  {
   "cell_type": "code",
   "execution_count": 12,
   "id": "349005cf",
   "metadata": {},
   "outputs": [
    {
     "name": "stdout",
     "output_type": "stream",
     "text": [
      "Maximum value: 84\n",
      "Minimum value: 5\n",
      "Mean value: 44.5\n",
      "1 Standard Deviation value: 100.36143571373725\n",
      "2 Standard Deviation value: 156.2228714274745\n"
     ]
    }
   ],
   "source": [
    "# Calculate the maximum value\n",
    "max_value = historical_top_zone_counts.max()\n",
    "\n",
    "# Calculate the minimum value\n",
    "min_value = historical_top_zone_counts.min()\n",
    "\n",
    "# Calculate the mean\n",
    "mean_value = historical_top_zone_counts.mean()\n",
    "\n",
    "# Calculate 1 standard deviation value\n",
    "std_dev_1_value = mean_value + historical_top_zone_counts.std()\n",
    "\n",
    "# Calculate 2 standard deviation value\n",
    "std_dev_2_value = mean_value + 2 * historical_top_zone_counts.std()\n",
    "\n",
    "# Display the results\n",
    "print(f\"Maximum value: {max_value}\")\n",
    "print(f\"Minimum value: {min_value}\")\n",
    "print(f\"Mean value: {mean_value}\")\n",
    "print(f\"1 Standard Deviation value: {std_dev_1_value}\")\n",
    "print(f\"2 Standard Deviation value: {std_dev_2_value}\")\n"
   ]
  },
  {
   "cell_type": "code",
   "execution_count": 13,
   "id": "5c96c882",
   "metadata": {},
   "outputs": [
    {
     "name": "stdout",
     "output_type": "stream",
     "text": [
      "There are 820 records and 14 columns.\n"
     ]
    },
    {
     "data": {
      "text/html": [
       "<div>\n",
       "<style scoped>\n",
       "    .dataframe tbody tr th:only-of-type {\n",
       "        vertical-align: middle;\n",
       "    }\n",
       "\n",
       "    .dataframe tbody tr th {\n",
       "        vertical-align: top;\n",
       "    }\n",
       "\n",
       "    .dataframe thead th {\n",
       "        text-align: right;\n",
       "    }\n",
       "</style>\n",
       "<table border=\"1\" class=\"dataframe\">\n",
       "  <thead>\n",
       "    <tr style=\"text-align: right;\">\n",
       "      <th></th>\n",
       "      <th>OBJECTID</th>\n",
       "      <th>IncidentNumber</th>\n",
       "      <th>Date_Occurred</th>\n",
       "      <th>Date_Found</th>\n",
       "      <th>Offense_Code</th>\n",
       "      <th>Offense_Description</th>\n",
       "      <th>Block</th>\n",
       "      <th>Street</th>\n",
       "      <th>Precinct</th>\n",
       "      <th>Subdivision</th>\n",
       "      <th>Zone_ID</th>\n",
       "      <th>Case_Status</th>\n",
       "      <th>Year</th>\n",
       "      <th>Month</th>\n",
       "    </tr>\n",
       "  </thead>\n",
       "  <tbody>\n",
       "    <tr>\n",
       "      <th>5958</th>\n",
       "      <td>5959</td>\n",
       "      <td>2023021492</td>\n",
       "      <td>2023/04/18 14:10:00+00</td>\n",
       "      <td>2023-04-18 14:30:00+00:00</td>\n",
       "      <td>23F</td>\n",
       "      <td>LARCENY, FROM MOTOR VEHICLE</td>\n",
       "      <td>300.0</td>\n",
       "      <td>DOVER CT</td>\n",
       "      <td>2</td>\n",
       "      <td>222</td>\n",
       "      <td>222</td>\n",
       "      <td>PENDING - INACTIVE</td>\n",
       "      <td>2023</td>\n",
       "      <td>4</td>\n",
       "    </tr>\n",
       "    <tr>\n",
       "      <th>5979</th>\n",
       "      <td>5980</td>\n",
       "      <td>2023018142</td>\n",
       "      <td>2023/03/30 19:30:00+00</td>\n",
       "      <td>2023-03-30 20:30:00+00:00</td>\n",
       "      <td>23F</td>\n",
       "      <td>LARCENY, FROM MOTOR VEHICLE</td>\n",
       "      <td>800.0</td>\n",
       "      <td>VIRGINIA BEACH BLVD</td>\n",
       "      <td>2</td>\n",
       "      <td>OCEANFRONT - 31ST ST SOUTH</td>\n",
       "      <td>225</td>\n",
       "      <td>CLEARED BY ARREST</td>\n",
       "      <td>2023</td>\n",
       "      <td>3</td>\n",
       "    </tr>\n",
       "    <tr>\n",
       "      <th>6019</th>\n",
       "      <td>6020</td>\n",
       "      <td>2023027946</td>\n",
       "      <td>2023/05/19 20:00:00+00</td>\n",
       "      <td>2023-05-19 20:00:00+00:00</td>\n",
       "      <td>23F</td>\n",
       "      <td>LARCENY, FROM MOTOR VEHICLE</td>\n",
       "      <td>NaN</td>\n",
       "      <td>NaN</td>\n",
       "      <td>NaN</td>\n",
       "      <td>NaN</td>\n",
       "      <td>NaN</td>\n",
       "      <td>PENDING - ACTIVE</td>\n",
       "      <td>2023</td>\n",
       "      <td>5</td>\n",
       "    </tr>\n",
       "    <tr>\n",
       "      <th>6025</th>\n",
       "      <td>6026</td>\n",
       "      <td>2023026981</td>\n",
       "      <td>2023/05/14 04:01:00+00</td>\n",
       "      <td>2023-05-14 13:08:00+00:00</td>\n",
       "      <td>23F</td>\n",
       "      <td>LARCENY, FROM MOTOR VEHICLE</td>\n",
       "      <td>NaN</td>\n",
       "      <td>NaN</td>\n",
       "      <td>NaN</td>\n",
       "      <td>NaN</td>\n",
       "      <td>NaN</td>\n",
       "      <td>PENDING - ACTIVE</td>\n",
       "      <td>2023</td>\n",
       "      <td>5</td>\n",
       "    </tr>\n",
       "    <tr>\n",
       "      <th>6090</th>\n",
       "      <td>6091</td>\n",
       "      <td>2023007857</td>\n",
       "      <td>2023/02/09 03:00:00+00</td>\n",
       "      <td>2023-02-09 11:00:00+00:00</td>\n",
       "      <td>23F</td>\n",
       "      <td>LARCENY, FROM MOTOR VEHICLE</td>\n",
       "      <td>5700.0</td>\n",
       "      <td>GREENWICH RD</td>\n",
       "      <td>4</td>\n",
       "      <td>GREENWICH CORNER</td>\n",
       "      <td>423</td>\n",
       "      <td>PENDING - INACTIVE</td>\n",
       "      <td>2023</td>\n",
       "      <td>2</td>\n",
       "    </tr>\n",
       "  </tbody>\n",
       "</table>\n",
       "</div>"
      ],
      "text/plain": [
       "      OBJECTID  IncidentNumber           Date_Occurred  \\\n",
       "5958      5959      2023021492  2023/04/18 14:10:00+00   \n",
       "5979      5980      2023018142  2023/03/30 19:30:00+00   \n",
       "6019      6020      2023027946  2023/05/19 20:00:00+00   \n",
       "6025      6026      2023026981  2023/05/14 04:01:00+00   \n",
       "6090      6091      2023007857  2023/02/09 03:00:00+00   \n",
       "\n",
       "                    Date_Found Offense_Code          Offense_Description  \\\n",
       "5958 2023-04-18 14:30:00+00:00          23F  LARCENY, FROM MOTOR VEHICLE   \n",
       "5979 2023-03-30 20:30:00+00:00          23F  LARCENY, FROM MOTOR VEHICLE   \n",
       "6019 2023-05-19 20:00:00+00:00          23F  LARCENY, FROM MOTOR VEHICLE   \n",
       "6025 2023-05-14 13:08:00+00:00          23F  LARCENY, FROM MOTOR VEHICLE   \n",
       "6090 2023-02-09 11:00:00+00:00          23F  LARCENY, FROM MOTOR VEHICLE   \n",
       "\n",
       "       Block               Street Precinct                 Subdivision  \\\n",
       "5958   300.0             DOVER CT        2                         222   \n",
       "5979   800.0  VIRGINIA BEACH BLVD        2  OCEANFRONT - 31ST ST SOUTH   \n",
       "6019     NaN                  NaN      NaN                         NaN   \n",
       "6025     NaN                  NaN      NaN                         NaN   \n",
       "6090  5700.0         GREENWICH RD        4            GREENWICH CORNER   \n",
       "\n",
       "     Zone_ID         Case_Status  Year  Month  \n",
       "5958     222  PENDING - INACTIVE  2023      4  \n",
       "5979     225   CLEARED BY ARREST  2023      3  \n",
       "6019     NaN    PENDING - ACTIVE  2023      5  \n",
       "6025     NaN    PENDING - ACTIVE  2023      5  \n",
       "6090     423  PENDING - INACTIVE  2023      2  "
      ]
     },
     "execution_count": 13,
     "metadata": {},
     "output_type": "execute_result"
    }
   ],
   "source": [
    "print(f\"There are {LARCENY_FROM_MOTOR_VEHICLE_2023.shape[0]} records and {LARCENY_FROM_MOTOR_VEHICLE_2023.shape[1]} columns.\")\n",
    "\n",
    "LARCENY_FROM_MOTOR_VEHICLE_2023.head()"
   ]
  },
  {
   "cell_type": "code",
   "execution_count": 14,
   "id": "fa2be750",
   "metadata": {},
   "outputs": [
    {
     "name": "stdout",
     "output_type": "stream",
     "text": [
      "Top 10 Address Blocks with the most incidents in the first half of 2023:\n",
      "300.0     41\n",
      "900.0     33\n",
      "700.0     30\n",
      "5600.0    29\n",
      "1000.0    29\n",
      "800.0     28\n",
      "1200.0    26\n",
      "5500.0    25\n",
      "1300.0    24\n",
      "400.0     23\n",
      "Name: Block, dtype: int64\n"
     ]
    }
   ],
   "source": [
    "# Count incidents in each address block for the first half of 2023\n",
    "address_block_counts_2023 = LARCENY_FROM_MOTOR_VEHICLE_2023['Block'].value_counts()\n",
    "\n",
    "# Identify the Top 10 address blocks\n",
    "top_10_address_blocks = address_block_counts_2023.head(10)\n",
    "\n",
    "# Display the results\n",
    "print(\"Top 10 Address Blocks with the most incidents in the first half of 2023:\")\n",
    "print(top_10_address_blocks)\n"
   ]
  },
  {
   "cell_type": "code",
   "execution_count": 30,
   "id": "c5ca1697",
   "metadata": {},
   "outputs": [
    {
     "data": {
      "image/png": "[encoded data removed]",
      "text/plain": [
       "<Figure size 800x300 with 1 Axes>"
      ]
     },
     "metadata": {},
     "output_type": "display_data"
    }
   ],
   "source": [
    "# Plot the distribution of incident counts\n",
    "plt.figure(figsize=(8, 3))\n",
    "top_10_address_blocks.plot(kind='bar', color='blue', alpha=0.6, label='Top 10 Blocks')\n",
    "plt.title('Distribution of Incidents Across Blocks (LARCENY, FROM MOTOR VEHICLE, 1st Half of 2023)')\n",
    "plt.xlabel('Block')\n",
    "plt.ylabel('Incident Count')\n",
    "plt.legend()\n",
    "plt.show()\n"
   ]
  },
  {
   "cell_type": "code",
   "execution_count": null,
   "id": "5b9cb1f4",
   "metadata": {},
   "outputs": [],
   "source": []
  },
  {
   "cell_type": "code",
   "execution_count": null,
   "id": "8767ff84",
   "metadata": {},
   "outputs": [],
   "source": []
  },
  {
   "cell_type": "code",
   "execution_count": null,
   "id": "a556466f",
   "metadata": {},
   "outputs": [],
   "source": []
  },
  {
   "cell_type": "code",
   "execution_count": null,
   "id": "a73485b3",
   "metadata": {},
   "outputs": [],
   "source": []
  },
  {
   "cell_type": "code",
   "execution_count": null,
   "id": "6159b057",
   "metadata": {},
   "outputs": [],
   "source": []
  },
  {
   "cell_type": "code",
   "execution_count": null,
   "id": "7f66fa47",
   "metadata": {},
   "outputs": [],
   "source": []
  },
  {
   "cell_type": "code",
   "execution_count": null,
   "id": "58dfabf1",
   "metadata": {
    "scrolled": true
   },
   "outputs": [],
   "source": [
    "\n"
   ]
  },
  {
   "cell_type": "code",
   "execution_count": null,
   "id": "397ca830",
   "metadata": {},
   "outputs": [],
   "source": [
    "\n"
   ]
  },
  {
   "cell_type": "code",
   "execution_count": null,
   "id": "1fb50688",
   "metadata": {},
   "outputs": [],
   "source": [
    "\n"
   ]
  },
  {
   "cell_type": "code",
   "execution_count": null,
   "id": "eb14ad46",
   "metadata": {},
   "outputs": [],
   "source": []
  }
 ],
 "metadata": {
  "kernelspec": {
   "display_name": "Python 3 (ipykernel)",
   "language": "python",
   "name": "python3"
  },
  "language_info": {
   "codemirror_mode": {
    "name": "ipython",
    "version": 3
   },
   "file_extension": ".py",
   "mimetype": "text/x-python",
   "name": "python",
   "nbconvert_exporter": "python",
   "pygments_lexer": "ipython3",
   "version": "3.10.11"
  }
 },
 "nbformat": 4,
 "nbformat_minor": 5
}
